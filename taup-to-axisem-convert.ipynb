{
 "cells": [
  {
   "cell_type": "code",
   "execution_count": 1,
   "id": "e076d432",
   "metadata": {},
   "outputs": [],
   "source": [
    "import numpy as np\n",
    "import matplotlib.pyplot as plt\n",
    "import scipy as sp\n",
    "from subprocess import run\n",
    "import re\n",
    "from statistics import mean"
   ]
  },
  {
   "cell_type": "code",
   "execution_count": 5,
   "id": "e595b401",
   "metadata": {},
   "outputs": [],
   "source": [
    "# set up filenames and paths\n",
    "file = \"SealedCore\"\n",
    "nd_directory = \"~/Documents/Enceladus/1D_files\"\n",
    "bm_directory =  \"~/Documents/Enceladus/1D_files/output\"\n",
    "\n",
    "nd_filename = f\"{nd_directory}/{file}.nd\"\n",
    "bm_filename = f\"{bm_directory}/{file}.bm\"\n",
    "\n",
    "# header information to use in .bm file - change as needed\n",
    "citation = \"Velocity model for Enceladus according to Dapré & Irving (2025)\"\n",
    "anelastic = \"false\"\n",
    "aniso = \"false\"\n",
    "units = \"m\"\n",
    "columns = \"radius rho vp vs\""
   ]
  },
  {
   "cell_type": "code",
   "execution_count": 6,
   "id": "4946b1e8",
   "metadata": {},
   "outputs": [],
   "source": [
    "# read in the input named discontinuities (.nd) file\n",
    "def Read_nd_mod(file_name):\n",
    "    print(file_name)\n",
    "    with open(file_name, 'r') as data:\n",
    "        dep = []\n",
    "        rawvp = []\n",
    "        rawvs = []\n",
    "        rawrho = []\n",
    "        layernames = []\n",
    "        bounds = []\n",
    "        # add regolith to the layer names to keep AxiSEM meshers happy\n",
    "        layernames.insert(0, \"regolith\")\n",
    "        bounds.insert(0, 0)\n",
    "        i = -1   # keeps track of which input file line we're on\n",
    "        k = -1   # keeps track of the length of output arrays\n",
    "        j = 1    # tracks how many layer names have been written\n",
    "        for line in data:\n",
    "            i = i+1\n",
    "            line = line.replace('\\n','')\n",
    "            layernames.append(line)\n",
    "            bounds.append(i+1)\n",
    "            try :\n",
    "                float(line[0]) # i.e. execute this block if the first character of the line is a number\n",
    "                layernames.pop()\n",
    "                bounds.pop()\n",
    "                p = line.split()\n",
    "                dep.append(float(p[0]))\n",
    "                rawvp.append(float(p[1]))\n",
    "                rawvs.append(float(p[2]))\n",
    "                rawrho.append(float(p[3]))\n",
    "                k = k+1\n",
    "            except:\n",
    "                pass\n",
    "            \n",
    "            if k > 0: # i.e. if dep contains at least 2 values\n",
    "                # if depth is the same as previous entry (indicating discontinuity) and the layer has not been named\n",
    "                if dep[k] == dep[k-1] and isname == 0:\n",
    "                    layernames.append(f\"unnamed-layer-{len(layernames)+1}\")\n",
    "                    bounds.append(i+1)\n",
    "                    j = j+1\n",
    "                    \n",
    "            if layernames[-1] in line: # i.e. if this line is a layername, stop the unnamed layer block from triggering next run\n",
    "                isname = 1\n",
    "            else:\n",
    "                isname = 0\n",
    "                    \n",
    "        bounds.append(i+j+1)    # identify last line\n",
    "        r = max(dep) # obtain radius\n",
    "        \n",
    "            \n",
    "    return dep, rawvp, rawvs, rawrho, bounds, r, layernames"
   ]
  },
  {
   "cell_type": "code",
   "execution_count": 7,
   "id": "0de2c717",
   "metadata": {
    "scrolled": true
   },
   "outputs": [
    {
     "name": "stdout",
     "output_type": "stream",
     "text": [
      "C:/Users/mercu/Downloads/1D_files/CadekEPSCBrantutW2.nd\n",
      "[0.0, 0.41, 0.41, 1.63, 2.86, 4.08, 5.31, 6.53, 7.75, 8.98, 10.2, 11.43, 12.65, 13.88, 15.1, 16.33, 17.55, 18.78, 20.0, 20.0, 69.6, 69.6, 69.65, 78.55, 87.69, 96.82, 105.95, 115.09, 124.22, 133.36, 142.49, 151.62, 160.76, 169.89, 179.03, 188.16, 197.29, 206.43, 215.56, 224.7, 233.83, 242.97, 252.1]\n",
      "['regolith', 'mantle', 'outer-core', 'inner-core']\n",
      "252.1\n",
      "[0, 3, 21, 24, 47]\n"
     ]
    }
   ],
   "source": [
    "rawdep, rawvp, rawvs, rawrho, bounds, rmax, layernames = Read_nd_mod(nd_filename)\n",
    "\n",
    "print(rawdep)\n",
    "print(layernames)\n",
    "print(rmax)\n",
    "print(bounds)"
   ]
  },
  {
   "cell_type": "code",
   "execution_count": 8,
   "id": "fb7cea57",
   "metadata": {},
   "outputs": [],
   "source": [
    "# function to format header for the .bm file\n",
    "def Make_bm_header(citation, anelastic, aniso, columns, units):\n",
    "    lines = [f\"#{citation}\", f\"ANELASTIC   {anelastic}\", f\"ANISOTROPIC {aniso}\", f\"UNITS      {units}\", f\"COLUMNS    {columns}\\n\"]\n",
    "    \n",
    "    return lines"
   ]
  },
  {
   "cell_type": "code",
   "execution_count": 9,
   "id": "b82c2906",
   "metadata": {},
   "outputs": [
    {
     "name": "stdout",
     "output_type": "stream",
     "text": [
      "['#Velocity model for Enceladus according to Cadek16Enc', 'ANELASTIC   false', 'ANISOTROPIC false', 'UNITS      m', 'COLUMNS    radius rho vp vs\\n']\n"
     ]
    }
   ],
   "source": [
    "header = Make_bm_header(citation, anelastic, aniso, columns, units)\n",
    "print(header)"
   ]
  },
  {
   "cell_type": "code",
   "execution_count": 10,
   "id": "fc7ba31c",
   "metadata": {},
   "outputs": [],
   "source": [
    "# function to write .bm model\n",
    "def Make_bm_mod(rawdep, rawvp, rawvs, rawrho, bounds, rmax, layernames, header, output_filename, units):\n",
    "    j = 0\n",
    "    k = 0\n",
    "    n = 0\n",
    "    lines = []\n",
    "    # sort out scaling units\n",
    "    if units =='m':\n",
    "        m = 1\n",
    "    elif units =='km':\n",
    "        m = 0\n",
    "    # begin constructing file\n",
    "    for i in range(0,len(layernames)):\n",
    "        if layernames[j] != \"mantle\": # avoiding writing the mantle layer name for AxiSEM mesher compatibility\n",
    "            if \"unnamed-layer\" not in layernames[j]: # remove unnamed layer names from .bm file output\n",
    "                lines.append(f\"# {layernames[j]}\")\n",
    "        for n in range(bounds[j]-j,bounds[j+1]-j-1): # select all data until the next boundary\n",
    "            if layernames[j] ==\"mantle\" and rawdep[n-1]==rawdep[n]:\n",
    "                del lines[-1] # remove duplicate line where mantle layer name has been skipped\n",
    "            vp = round(rawvp[n]*1000**m,2)\n",
    "            vs = round(rawvs[n]*1000**m,2)\n",
    "            rho = round(rawrho[n]*1000**m,2)\n",
    "            dep = round((rmax-rawdep[n])*1000**m,3) # convert depth to radius\n",
    "            lines.append(f\"   {dep}   {rho}   {vp}   {vs}\")\n",
    "        j = j+1 # increment the layer\n",
    "    data = header + lines\n",
    "    print(data)\n",
    "     \n",
    "    with open(output_filename, 'w') as fout:\n",
    "        for item in data:\n",
    "            fout.write(\"%s\\n\" % item)\n",
    "    \n",
    "    return data"
   ]
  },
  {
   "cell_type": "code",
   "execution_count": 11,
   "id": "24739228",
   "metadata": {
    "scrolled": false
   },
   "outputs": [
    {
     "name": "stdout",
     "output_type": "stream",
     "text": [
      "['#Velocity model for Enceladus according to Cadek16Enc', 'ANELASTIC   false', 'ANISOTROPIC false', 'UNITS      m', 'COLUMNS    radius rho vp vs\\n', '# regolith', '   252100.0   930.0   4250.4   4250.4', '   251690.0   930.0   4241.8   4241.8', '   250470.0   930.0   4215.9   4215.9', '   249240.0   930.0   4189.7   4189.7', '   248020.0   930.0   4163.4   4163.4', '   246790.0   930.0   4136.7   4136.7', '   245570.0   930.0   4109.7   4109.7', '   244350.0   930.0   4082.5   4082.5', '   243120.0   930.0   4055.0   4055.0', '   241900.0   930.0   4027.3   4027.3', '   240670.0   930.0   3999.2   3999.2', '   239450.0   930.0   3970.9   3970.9', '   238220.0   930.0   3942.2   3942.2', '   237000.0   930.0   3913.4   3913.4', '   235770.0   930.0   3884.1   3884.1', '   234550.0   930.0   3854.6   3854.6', '   233320.0   930.0   3824.8   3824.8', '   232100.0   930.0   3794.6   3794.6', '# outer-core', '   232100.0   1030.0   1400.0   1400.0', '   182500.0   1030.0   1400.0   1400.0', '# inner-core', '   182500.0   2290.0   2543.2   2543.2', '   182450.0   2290.0   2543.2   2543.2', '   173550.0   2360.0   2668.8   2668.8', '   164410.0   2430.0   2798.9   2798.9', '   155280.0   2500.0   2929.5   2929.5', '   146150.0   2550.0   3059.3   3059.3', '   137010.0   2600.0   3187.0   3187.0', '   127880.0   2650.0   3311.2   3311.2', '   118740.0   2690.0   3430.8   3430.8', '   109610.0   2730.0   3544.7   3544.7', '   100480.0   2760.0   3652.1   3652.1', '   91340.0   2790.0   3752.0   3752.0', '   82210.0   2810.0   3843.9   3843.9', '   73070.0   2840.0   3927.1   3927.1', '   63940.0   2850.0   4001.2   4001.2', '   54810.0   2870.0   4065.9   4065.9', '   45670.0   2880.0   4121.0   4121.0', '   36540.0   2890.0   4166.3   4166.3', '   27400.0   2900.0   4201.6   4201.6', '   18270.0   2900.0   4226.9   4226.9', '   9130.0   2910.0   4242.0   4242.0', '   0.0   2910.0   4247.0   4247.0']\n"
     ]
    }
   ],
   "source": [
    "output = Make_bm_mod(rawdep,rawvp,rawvs,rawrho,bounds,rmax,layernames,header,bm_filename, units)"
   ]
  },
  {
   "cell_type": "code",
   "execution_count": null,
   "id": "6f2eda11",
   "metadata": {},
   "outputs": [],
   "source": []
  }
 ],
 "metadata": {
  "kernelspec": {
   "display_name": "Python 3 (ipykernel)",
   "language": "python",
   "name": "python3"
  },
  "language_info": {
   "codemirror_mode": {
    "name": "ipython",
    "version": 3
   },
   "file_extension": ".py",
   "mimetype": "text/x-python",
   "name": "python",
   "nbconvert_exporter": "python",
   "pygments_lexer": "ipython3",
   "version": "3.10.11"
  }
 },
 "nbformat": 4,
 "nbformat_minor": 5
}
