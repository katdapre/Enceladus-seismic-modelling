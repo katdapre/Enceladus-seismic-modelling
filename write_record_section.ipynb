{
 "cells": [
  {
   "cell_type": "code",
   "execution_count": 1,
   "id": "every-veteran",
   "metadata": {},
   "outputs": [],
   "source": [
    "import numpy as np\n",
    "import matplotlib.pyplot as plt\n",
    "import scipy as sp\n",
    "from scipy import signal, fft\n",
    "from subprocess import run\n",
    "import re\n",
    "import pandas as pd\n",
    "import obspy\n",
    "import obspy.signal.freqattributes as freqatt\n",
    "from obspy.core.util.attribdict import AttribDict"
   ]
  },
  {
   "cell_type": "code",
   "execution_count": 2,
   "id": "defensive-census",
   "metadata": {},
   "outputs": [],
   "source": [
    "### set up variables for this run ###\n",
    "# run name should correspond to the mesh name given to inparam_mesh/the directory name passed to movemesh.csh\n",
    "run_name = \"CadekEPSCBW2_deep\"\n",
    "\n",
    "# directory containing the AxiSEM SOLVER folder\n",
    "sim_dir = \"~/Documents/Synthetics\"\n",
    "\n",
    "# processed seismic traces will be stored in f\"{working_dir}/{run_name}/\"\n",
    "working_dir = \"~/Documents/Enceladus\"\n",
    "\n",
    "# name of receiver file used in the simulation\n",
    "station = \"recfile\"\n",
    "\n",
    "# which component to plot\n",
    "component = \"Z\"\n",
    "\n",
    "# extract delta from the recorded simulation data\n",
    "f = open(f'{sim_dir}/SOLVER/{run_name}/Data_Postprocessing/info_matlab.dat')\n",
    "lines = f.readlines()\n",
    "line = lines[2].replace(' ', '')\n",
    "delta = line.replace('\\n','')\n",
    "\n",
    "# create directory to store processed seismic data\n",
    "run(['mkdir', '-p', f\"{working_dir}/{run_name}\"])"
   ]
  },
  {
   "cell_type": "code",
   "execution_count": 4,
   "id": "nearby-webmaster",
   "metadata": {},
   "outputs": [],
   "source": [
    "#function to read a 2-column file and return x and y which are lists of floats\n",
    "def Read_2Col(file_name):\n",
    "    print(file_name)\n",
    "    with open(file_name, 'r') as data:\n",
    "        x = []\n",
    "        y = []\n",
    "        for line in data:\n",
    "            p = line.split()\n",
    "            x.append(float(p[0]))\n",
    "            y.append(float(p[1]))\n",
    "            \n",
    "    return x, y"
   ]
  },
  {
   "cell_type": "code",
   "execution_count": 5,
   "id": "short-rotation",
   "metadata": {},
   "outputs": [],
   "source": [
    "#function to return station information from the seismogram file chosen including network, latitude + longitude, elevation, and depth\n",
    "def Read_Station(file_name, station):\n",
    "        with open(file_name, 'r') as data:\n",
    "            net = []\n",
    "            lat = []\n",
    "            lon = []\n",
    "            elev = []\n",
    "            depth = []\n",
    "            for line in data:\n",
    "                #find the line with the station name in\n",
    "                if station in line:\n",
    "                    p = line.split()\n",
    "                    print(p)\n",
    "                    net = p[1]\n",
    "                    lat = p[2]\n",
    "                    lon = p[3]\n",
    "                    elev = p[4]\n",
    "                    depth = p[5]\n",
    "                    \n",
    "        return net, lat, lon, elev, depth"
   ]
  },
  {
   "cell_type": "code",
   "execution_count": 6,
   "id": "70992c10",
   "metadata": {},
   "outputs": [],
   "source": [
    "#function to read station information from receivers.dat file type\n",
    "def Read_Receivers(file_name):\n",
    "    lat = {}\n",
    "    lon = {}\n",
    "    with open(file_name, 'r') as data:\n",
    "        data = data.readlines()\n",
    "        n = data[0]\n",
    "        for i in range(1, len(data)):\n",
    "            #linesplit\n",
    "            data[i] = data[i].replace('/n', '')\n",
    "            line = data[i].split()\n",
    "            lat[str(i).zfill(4)] = str(90 - float(line[0])) # i+1 used to avoid plotting the first and last stations at 0 and 180 degrees\n",
    "            lon[str(i).zfill(4)] = line[1]\n",
    "            \n",
    "    return lat, lon, n"
   ]
  },
  {
   "cell_type": "code",
   "execution_count": 7,
   "id": "24b6a9c8",
   "metadata": {},
   "outputs": [],
   "source": [
    "#function to read source data from source file, reutrns depth, lat+lon as strings\n",
    "def Read_Source(file_name):\n",
    "        with open(file_name, 'r') as data:\n",
    "            lat = []\n",
    "            lon = []\n",
    "            dep = []\n",
    "            for line in data:\n",
    "                if 'SOURCE_DEPTH' in line:\n",
    "                    p = line.split()\n",
    "                    dep = p[1]\n",
    "                if 'SOURCE_LAT' in line:\n",
    "                    p = line.split()\n",
    "                    lat = p[1]\n",
    "                if 'SOURCE_LON' in line:\n",
    "                    p = line.split()\n",
    "                    lon = p[1]\n",
    "                    \n",
    "        return dep, lat, lon"
   ]
  },
  {
   "cell_type": "code",
   "execution_count": 8,
   "id": "f3f83912",
   "metadata": {},
   "outputs": [],
   "source": [
    "#function to find dominant period and background model for this run - file name should be location of inparam_mesh, outputs dominant period as a float\n",
    "def Read_mesh(file_name):\n",
    "    with open(file_name, 'r') as data :\n",
    "        DPeriod = []\n",
    "        bg_model = []\n",
    "        ext_model = []\n",
    "        for line in data :\n",
    "            if 'DOMINANT_PERIOD' in line :\n",
    "                p = line.split()\n",
    "                DPeriod = float(p[1])\n",
    "            if 'BACKGROUND_MODEL' in line :\n",
    "                p = line.split()\n",
    "                bg_model = p[1]\n",
    "            #external model has a # at the start of the line if it's not in use; ext_model therefore = 'EXT_MODEL' when not in use\n",
    "            if  'EXT_MODEL' in line :\n",
    "                p = line.split()\n",
    "                ext_model = p[1]\n",
    "            \n",
    "    return DPeriod, bg_model, ext_model"
   ]
  },
  {
   "cell_type": "code",
   "execution_count": 9,
   "id": "secret-boxing",
   "metadata": {
    "scrolled": true
   },
   "outputs": [
    {
     "name": "stdout",
     "output_type": "stream",
     "text": [
      "{'0001': '90.0', '0002': '82.5', '0003': '75.0', '0004': '67.5', '0005': '60.0', '0006': '52.5', '0007': '45.0', '0008': '37.5', '0009': '30.0', '0010': '22.5', '0011': '15.0', '0012': '7.5', '0013': '0.0', '0014': '-7.5', '0015': '-15.0', '0016': '-22.5', '0017': '-30.0', '0018': '-37.5', '0019': '-45.0', '0020': '-52.5', '0021': '-60.0', '0022': '-67.5', '0023': '-75.0', '0024': '-82.5', '0025': '-90.0'}\n",
      "{'0001': '0.0', '0002': '0.0', '0003': '0.0', '0004': '0.0', '0005': '0.0', '0006': '0.0', '0007': '0.0', '0008': '0.0', '0009': '0.0', '0010': '0.0', '0011': '0.0', '0012': '0.0', '0013': '0.0', '0014': '0.0', '0015': '0.0', '0016': '0.0', '0017': '0.0', '0018': '0.0', '0019': '0.0', '0020': '0.0', '0021': '0.0', '0022': '0.0', '0023': '0.0', '0024': '0.0', '0025': '0.0'}\n",
      "/Users/katdapre/Documents/Synthetics/parallel-axisem/SOLVER/CadekEPSCBrantutW2/Data_Postprocessing/SEISMOGRAMS/recfile_0001_disp_post_mij_conv0000_Z.dat\n",
      "/Users/katdapre/Documents/Synthetics/parallel-axisem/SOLVER/CadekEPSCBrantutW2/Data_Postprocessing/SEISMOGRAMS/recfile_0002_disp_post_mij_conv0000_Z.dat\n",
      "/Users/katdapre/Documents/Synthetics/parallel-axisem/SOLVER/CadekEPSCBrantutW2/Data_Postprocessing/SEISMOGRAMS/recfile_0003_disp_post_mij_conv0000_Z.dat\n",
      "/Users/katdapre/Documents/Synthetics/parallel-axisem/SOLVER/CadekEPSCBrantutW2/Data_Postprocessing/SEISMOGRAMS/recfile_0004_disp_post_mij_conv0000_Z.dat\n",
      "/Users/katdapre/Documents/Synthetics/parallel-axisem/SOLVER/CadekEPSCBrantutW2/Data_Postprocessing/SEISMOGRAMS/recfile_0005_disp_post_mij_conv0000_Z.dat\n",
      "/Users/katdapre/Documents/Synthetics/parallel-axisem/SOLVER/CadekEPSCBrantutW2/Data_Postprocessing/SEISMOGRAMS/recfile_0006_disp_post_mij_conv0000_Z.dat\n",
      "/Users/katdapre/Documents/Synthetics/parallel-axisem/SOLVER/CadekEPSCBrantutW2/Data_Postprocessing/SEISMOGRAMS/recfile_0007_disp_post_mij_conv0000_Z.dat\n",
      "/Users/katdapre/Documents/Synthetics/parallel-axisem/SOLVER/CadekEPSCBrantutW2/Data_Postprocessing/SEISMOGRAMS/recfile_0008_disp_post_mij_conv0000_Z.dat\n",
      "/Users/katdapre/Documents/Synthetics/parallel-axisem/SOLVER/CadekEPSCBrantutW2/Data_Postprocessing/SEISMOGRAMS/recfile_0009_disp_post_mij_conv0000_Z.dat\n",
      "/Users/katdapre/Documents/Synthetics/parallel-axisem/SOLVER/CadekEPSCBrantutW2/Data_Postprocessing/SEISMOGRAMS/recfile_0010_disp_post_mij_conv0000_Z.dat\n",
      "/Users/katdapre/Documents/Synthetics/parallel-axisem/SOLVER/CadekEPSCBrantutW2/Data_Postprocessing/SEISMOGRAMS/recfile_0011_disp_post_mij_conv0000_Z.dat\n",
      "/Users/katdapre/Documents/Synthetics/parallel-axisem/SOLVER/CadekEPSCBrantutW2/Data_Postprocessing/SEISMOGRAMS/recfile_0012_disp_post_mij_conv0000_Z.dat\n",
      "/Users/katdapre/Documents/Synthetics/parallel-axisem/SOLVER/CadekEPSCBrantutW2/Data_Postprocessing/SEISMOGRAMS/recfile_0013_disp_post_mij_conv0000_Z.dat\n",
      "/Users/katdapre/Documents/Synthetics/parallel-axisem/SOLVER/CadekEPSCBrantutW2/Data_Postprocessing/SEISMOGRAMS/recfile_0014_disp_post_mij_conv0000_Z.dat\n",
      "/Users/katdapre/Documents/Synthetics/parallel-axisem/SOLVER/CadekEPSCBrantutW2/Data_Postprocessing/SEISMOGRAMS/recfile_0015_disp_post_mij_conv0000_Z.dat\n",
      "/Users/katdapre/Documents/Synthetics/parallel-axisem/SOLVER/CadekEPSCBrantutW2/Data_Postprocessing/SEISMOGRAMS/recfile_0016_disp_post_mij_conv0000_Z.dat\n",
      "/Users/katdapre/Documents/Synthetics/parallel-axisem/SOLVER/CadekEPSCBrantutW2/Data_Postprocessing/SEISMOGRAMS/recfile_0017_disp_post_mij_conv0000_Z.dat\n",
      "/Users/katdapre/Documents/Synthetics/parallel-axisem/SOLVER/CadekEPSCBrantutW2/Data_Postprocessing/SEISMOGRAMS/recfile_0018_disp_post_mij_conv0000_Z.dat\n",
      "/Users/katdapre/Documents/Synthetics/parallel-axisem/SOLVER/CadekEPSCBrantutW2/Data_Postprocessing/SEISMOGRAMS/recfile_0019_disp_post_mij_conv0000_Z.dat\n",
      "/Users/katdapre/Documents/Synthetics/parallel-axisem/SOLVER/CadekEPSCBrantutW2/Data_Postprocessing/SEISMOGRAMS/recfile_0020_disp_post_mij_conv0000_Z.dat\n",
      "/Users/katdapre/Documents/Synthetics/parallel-axisem/SOLVER/CadekEPSCBrantutW2/Data_Postprocessing/SEISMOGRAMS/recfile_0021_disp_post_mij_conv0000_Z.dat\n",
      "/Users/katdapre/Documents/Synthetics/parallel-axisem/SOLVER/CadekEPSCBrantutW2/Data_Postprocessing/SEISMOGRAMS/recfile_0022_disp_post_mij_conv0000_Z.dat\n",
      "/Users/katdapre/Documents/Synthetics/parallel-axisem/SOLVER/CadekEPSCBrantutW2/Data_Postprocessing/SEISMOGRAMS/recfile_0023_disp_post_mij_conv0000_Z.dat\n",
      "/Users/katdapre/Documents/Synthetics/parallel-axisem/SOLVER/CadekEPSCBrantutW2/Data_Postprocessing/SEISMOGRAMS/recfile_0024_disp_post_mij_conv0000_Z.dat\n",
      "/Users/katdapre/Documents/Synthetics/parallel-axisem/SOLVER/CadekEPSCBrantutW2/Data_Postprocessing/SEISMOGRAMS/recfile_0025_disp_post_mij_conv0000_Z.dat\n",
      "0.125\n",
      "external\n",
      "CadekEPSCBrantutW2.bm\n",
      "/Users/katdapre/Documents/Enceladus/Cadek16Enc/CadekEPSCBrantutW2.nd\n"
     ]
    }
   ],
   "source": [
    "# read station data\n",
    "stalat, stalon, n = Read_Receivers(f\"{sim_dir}/SOLVER/{run_name}/receivers.dat\")\n",
    "print(stalat)\n",
    "print(stalon)\n",
    "\n",
    "# read in the seismogram and assign to time + displacement\n",
    "t = {}\n",
    "disp = {}\n",
    "for station in stalat.keys():\n",
    "    file_path = f\"{sim_dir}/SOLVER/{run_name}/Data_Postprocessing/SEISMOGRAMS/recfile_{station}_disp_post_mij_conv0000_{component}.dat\"\n",
    "    t[station], disp[station] = Read_2Col(file_path)\n",
    "\n",
    "# read dominant period and background model\n",
    "DPeriod, bg_model, ext_model = Read_mesh(f\"{sim_dir}/SOLVER/{run_name}/inparam_mesh\")\n",
    "print(DPeriod)"
   ]
  },
  {
   "cell_type": "code",
   "execution_count": 10,
   "id": "accessory-color",
   "metadata": {
    "scrolled": false
   },
   "outputs": [
    {
     "name": "stdout",
     "output_type": "stream",
     "text": [
      "90.0\n",
      "/Users/katdapre/Documents/Enceladus/Cadek16Enc/CadekEPSCBrantutW2.nd\n",
      "5.0\n"
     ]
    }
   ],
   "source": [
    "# read source data\n",
    "source_dep, evtlat, evtlon = Read_Source(f\"{sim_dir}/SOLVER/{run_name}/inparam_source\")\n",
    "\n",
    "source_dep = str(source_dep)\n",
    "evtlat = str(evtlat)\n",
    "evtlon = str(evtlon)"
   ]
  },
  {
   "cell_type": "code",
   "execution_count": null,
   "id": "4d29b6e6",
   "metadata": {},
   "outputs": [],
   "source": [
    "### construct filter ###\n",
    "\n",
    "sps = 1/float(delta) # samples per second\n",
    "order = 4             # Order of the filter (corners)\n",
    "filter_type = 'bandpass'  # Filter type (e.g., 'highpass', 'lowpass', 'bandpass')\n",
    "band_cutoff = [1,6]       # Critical frequency or frequencies for filter in Hz (use [min_freq, max_freq] for 'bandpass')\n",
    "\n",
    "# Construct Butterworth filter\n",
    "sos = signal.butter(order, band_cutoff, btype=filter_type, fs=sps, output='sos')\n"
   ]
  },
  {
   "cell_type": "code",
   "execution_count": 15,
   "id": "79f34288",
   "metadata": {
    "scrolled": true
   },
   "outputs": [
    {
     "name": "stdout",
     "output_type": "stream",
     "text": [
      "3.758260440270297e-05\n",
      "8.478939535527486e-05\n",
      "8.663648148980066e-06\n",
      "1.5112267051796343e-06\n",
      "3.1690285800661975e-07\n",
      "2.588595562754421e-07\n",
      "2.186952775080507e-07\n",
      "1.8746665509461873e-07\n",
      "1.630128712644188e-07\n",
      "1.5925203570024663e-07\n",
      "1.426872566481103e-07\n",
      "2.7020014811235784e-07\n",
      "3.595512467461762e-07\n",
      "4.2011744892170333e-07\n",
      "4.4745969605574935e-07\n",
      "4.5663577975902324e-07\n",
      "4.5674205322599324e-07\n",
      "4.515009452766693e-07\n",
      "4.441504735763384e-07\n",
      "4.361145453979483e-07\n",
      "4.28609932479142e-07\n",
      "4.225767264598708e-07\n",
      "4.1790783983989543e-07\n",
      "4.153271763991335e-07\n",
      "3.3489436864195482e-06\n"
     ]
    }
   ],
   "source": [
    "### process + write data ###\n",
    "\n",
    "#for each station in the displacement dict:\n",
    "for s2plot in list(disp.keys()):\n",
    "    df = pd.DataFrame(plotdisp[s2plot])\n",
    "    \n",
    "    # write processed unfiltered data\n",
    "    amp2 = obspy.Trace(data = np.array(df[0]).T)\n",
    "    amp2.detrend('simple')\n",
    "    amp2.detrend('demean')\n",
    "    amp2.taper(0.05,type='hann')\n",
    "    amp2.stats['sampling_rate'] = sps\n",
    "    amp2.stats['station'] = s2plot\n",
    "    amp2.write(f\"{working_dir}/{run_name}/{s2plot}{component}raw.sac\")\n",
    "        \n",
    "    # write processed filtered data\n",
    "    f_data = signal.sosfiltfilt(sos, amp2, padtype='odd')\n",
    "    f_data2 = obspy.Trace(data = np.array(f_data))\n",
    "    f_data2.stats['delta'] = delta\n",
    "    f_data2.stats['station'] = s2plot\n",
    "    f_data2.write(f\"{working_dir}/{run_name}/{s2plot}{component}filt_{band_cutoff[0]}_{band_cutoff[1]}.sac\")"
   ]
  }
 ],
 "metadata": {
  "kernelspec": {
   "display_name": "Python 3 (ipykernel)",
   "language": "python",
   "name": "python3"
  },
  "language_info": {
   "codemirror_mode": {
    "name": "ipython",
    "version": 3
   },
   "file_extension": ".py",
   "mimetype": "text/x-python",
   "name": "python",
   "nbconvert_exporter": "python",
   "pygments_lexer": "ipython3",
   "version": "3.10.11"
  }
 },
 "nbformat": 4,
 "nbformat_minor": 5
}
